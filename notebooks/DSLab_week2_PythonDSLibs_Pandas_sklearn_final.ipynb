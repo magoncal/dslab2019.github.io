{
  "nbformat": 4,
  "nbformat_minor": 0,
  "metadata": {
    "colab": {
      "name": "DSLab_week2_PythonDSLibs-Pandas_sklearn-final.ipynb",
      "version": "0.3.2",
      "provenance": [],
      "collapsed_sections": []
    },
    "kernelspec": {
      "name": "python3",
      "display_name": "Python 3"
    },
    "accelerator": "GPU"
  },
  "cells": [
    {
      "metadata": {
        "id": "8FypPjfp6dZ3",
        "colab_type": "text"
      },
      "cell_type": "markdown",
      "source": [
        "## Getting familiar with Pandas"
      ]
    },
    {
      "metadata": {
        "id": "wd_yumkj6daC",
        "colab_type": "code",
        "colab": {}
      },
      "cell_type": "code",
      "source": [
        "## Pandas \n",
        "# there are several ways to change a column in a dataframe\n",
        "# A short intro to pandas https://pandas.pydata.org/pandas-docs/stable/10min.html\n",
        "\n",
        "import pandas as pd\n",
        "import numpy as np\n",
        "import random\n",
        "import timeit"
      ],
      "execution_count": 0,
      "outputs": []
    },
    {
      "metadata": {
        "id": "oxnPOPPO6daZ",
        "colab_type": "code",
        "colab": {}
      },
      "cell_type": "code",
      "source": [
        "# First step: make the dataframe\n",
        "dates = pd.date_range('20130101', '20140101') #366\n",
        "data = pd.DataFrame(np.random.randn(366,4), index=dates, columns=list('ABCD'))"
      ],
      "execution_count": 0,
      "outputs": []
    },
    {
      "metadata": {
        "id": "u3Zozsa46daq",
        "colab_type": "text"
      },
      "cell_type": "markdown",
      "source": [
        "### Exercise 1.1: Inspect the dataframe with the following commands: head(), tail(), describe."
      ]
    },
    {
      "metadata": {
        "id": "QsQR2znM6dat",
        "colab_type": "code",
        "outputId": "5a279e97-1f46-4793-c407-87d277442e9e",
        "colab": {
          "base_uri": "https://localhost:8080/",
          "height": 206
        }
      },
      "cell_type": "code",
      "source": [
        "# Solution\n",
        "data.head()"
      ],
      "execution_count": 0,
      "outputs": [
        {
          "output_type": "execute_result",
          "data": {
            "text/html": [
              "<div>\n",
              "<style scoped>\n",
              "    .dataframe tbody tr th:only-of-type {\n",
              "        vertical-align: middle;\n",
              "    }\n",
              "\n",
              "    .dataframe tbody tr th {\n",
              "        vertical-align: top;\n",
              "    }\n",
              "\n",
              "    .dataframe thead th {\n",
              "        text-align: right;\n",
              "    }\n",
              "</style>\n",
              "<table border=\"1\" class=\"dataframe\">\n",
              "  <thead>\n",
              "    <tr style=\"text-align: right;\">\n",
              "      <th></th>\n",
              "      <th>A</th>\n",
              "      <th>B</th>\n",
              "      <th>C</th>\n",
              "      <th>D</th>\n",
              "    </tr>\n",
              "  </thead>\n",
              "  <tbody>\n",
              "    <tr>\n",
              "      <th>2013-01-01</th>\n",
              "      <td>-0.865065</td>\n",
              "      <td>-1.323184</td>\n",
              "      <td>-2.060583</td>\n",
              "      <td>-1.093683</td>\n",
              "    </tr>\n",
              "    <tr>\n",
              "      <th>2013-01-02</th>\n",
              "      <td>-1.434577</td>\n",
              "      <td>2.695614</td>\n",
              "      <td>0.982652</td>\n",
              "      <td>0.769584</td>\n",
              "    </tr>\n",
              "    <tr>\n",
              "      <th>2013-01-03</th>\n",
              "      <td>-1.520955</td>\n",
              "      <td>-0.184620</td>\n",
              "      <td>1.768990</td>\n",
              "      <td>0.251867</td>\n",
              "    </tr>\n",
              "    <tr>\n",
              "      <th>2013-01-04</th>\n",
              "      <td>0.155172</td>\n",
              "      <td>-0.126022</td>\n",
              "      <td>-0.095785</td>\n",
              "      <td>-0.602780</td>\n",
              "    </tr>\n",
              "    <tr>\n",
              "      <th>2013-01-05</th>\n",
              "      <td>-0.584360</td>\n",
              "      <td>0.568325</td>\n",
              "      <td>-1.016321</td>\n",
              "      <td>0.447643</td>\n",
              "    </tr>\n",
              "  </tbody>\n",
              "</table>\n",
              "</div>"
            ],
            "text/plain": [
              "                   A         B         C         D\n",
              "2013-01-01 -0.865065 -1.323184 -2.060583 -1.093683\n",
              "2013-01-02 -1.434577  2.695614  0.982652  0.769584\n",
              "2013-01-03 -1.520955 -0.184620  1.768990  0.251867\n",
              "2013-01-04  0.155172 -0.126022 -0.095785 -0.602780\n",
              "2013-01-05 -0.584360  0.568325 -1.016321  0.447643"
            ]
          },
          "metadata": {
            "tags": []
          },
          "execution_count": 3
        }
      ]
    },
    {
      "metadata": {
        "id": "RzlSsC_G6dbK",
        "colab_type": "code",
        "outputId": "ff251a91-d788-4366-cb46-6769e93e12bb",
        "colab": {
          "base_uri": "https://localhost:8080/",
          "height": 206
        }
      },
      "cell_type": "code",
      "source": [
        "data.tail()"
      ],
      "execution_count": 0,
      "outputs": [
        {
          "output_type": "execute_result",
          "data": {
            "text/html": [
              "<div>\n",
              "<style scoped>\n",
              "    .dataframe tbody tr th:only-of-type {\n",
              "        vertical-align: middle;\n",
              "    }\n",
              "\n",
              "    .dataframe tbody tr th {\n",
              "        vertical-align: top;\n",
              "    }\n",
              "\n",
              "    .dataframe thead th {\n",
              "        text-align: right;\n",
              "    }\n",
              "</style>\n",
              "<table border=\"1\" class=\"dataframe\">\n",
              "  <thead>\n",
              "    <tr style=\"text-align: right;\">\n",
              "      <th></th>\n",
              "      <th>A</th>\n",
              "      <th>B</th>\n",
              "      <th>C</th>\n",
              "      <th>D</th>\n",
              "    </tr>\n",
              "  </thead>\n",
              "  <tbody>\n",
              "    <tr>\n",
              "      <th>2013-12-28</th>\n",
              "      <td>0.397898</td>\n",
              "      <td>0.354023</td>\n",
              "      <td>0.787082</td>\n",
              "      <td>-0.091770</td>\n",
              "    </tr>\n",
              "    <tr>\n",
              "      <th>2013-12-29</th>\n",
              "      <td>0.888595</td>\n",
              "      <td>-0.437082</td>\n",
              "      <td>-0.570970</td>\n",
              "      <td>0.515705</td>\n",
              "    </tr>\n",
              "    <tr>\n",
              "      <th>2013-12-30</th>\n",
              "      <td>-0.246886</td>\n",
              "      <td>0.575863</td>\n",
              "      <td>0.236348</td>\n",
              "      <td>0.606172</td>\n",
              "    </tr>\n",
              "    <tr>\n",
              "      <th>2013-12-31</th>\n",
              "      <td>-0.740922</td>\n",
              "      <td>-1.787007</td>\n",
              "      <td>-0.068582</td>\n",
              "      <td>0.804153</td>\n",
              "    </tr>\n",
              "    <tr>\n",
              "      <th>2014-01-01</th>\n",
              "      <td>-0.906857</td>\n",
              "      <td>0.956664</td>\n",
              "      <td>2.227654</td>\n",
              "      <td>1.137369</td>\n",
              "    </tr>\n",
              "  </tbody>\n",
              "</table>\n",
              "</div>"
            ],
            "text/plain": [
              "                   A         B         C         D\n",
              "2013-12-28  0.397898  0.354023  0.787082 -0.091770\n",
              "2013-12-29  0.888595 -0.437082 -0.570970  0.515705\n",
              "2013-12-30 -0.246886  0.575863  0.236348  0.606172\n",
              "2013-12-31 -0.740922 -1.787007 -0.068582  0.804153\n",
              "2014-01-01 -0.906857  0.956664  2.227654  1.137369"
            ]
          },
          "metadata": {
            "tags": []
          },
          "execution_count": 4
        }
      ]
    },
    {
      "metadata": {
        "id": "JmBYrxYg6dbc",
        "colab_type": "code",
        "outputId": "ae3ef46c-7628-411b-e112-96f9ca4a324d",
        "colab": {
          "base_uri": "https://localhost:8080/",
          "height": 300
        }
      },
      "cell_type": "code",
      "source": [
        "data.describe()"
      ],
      "execution_count": 0,
      "outputs": [
        {
          "output_type": "execute_result",
          "data": {
            "text/html": [
              "<div>\n",
              "<style scoped>\n",
              "    .dataframe tbody tr th:only-of-type {\n",
              "        vertical-align: middle;\n",
              "    }\n",
              "\n",
              "    .dataframe tbody tr th {\n",
              "        vertical-align: top;\n",
              "    }\n",
              "\n",
              "    .dataframe thead th {\n",
              "        text-align: right;\n",
              "    }\n",
              "</style>\n",
              "<table border=\"1\" class=\"dataframe\">\n",
              "  <thead>\n",
              "    <tr style=\"text-align: right;\">\n",
              "      <th></th>\n",
              "      <th>A</th>\n",
              "      <th>B</th>\n",
              "      <th>C</th>\n",
              "      <th>D</th>\n",
              "    </tr>\n",
              "  </thead>\n",
              "  <tbody>\n",
              "    <tr>\n",
              "      <th>count</th>\n",
              "      <td>366.000000</td>\n",
              "      <td>366.000000</td>\n",
              "      <td>366.000000</td>\n",
              "      <td>366.000000</td>\n",
              "    </tr>\n",
              "    <tr>\n",
              "      <th>mean</th>\n",
              "      <td>-0.038648</td>\n",
              "      <td>-0.068622</td>\n",
              "      <td>-0.033503</td>\n",
              "      <td>-0.111356</td>\n",
              "    </tr>\n",
              "    <tr>\n",
              "      <th>std</th>\n",
              "      <td>0.939546</td>\n",
              "      <td>0.994116</td>\n",
              "      <td>0.974423</td>\n",
              "      <td>1.020539</td>\n",
              "    </tr>\n",
              "    <tr>\n",
              "      <th>min</th>\n",
              "      <td>-3.252458</td>\n",
              "      <td>-3.182307</td>\n",
              "      <td>-2.967590</td>\n",
              "      <td>-2.828728</td>\n",
              "    </tr>\n",
              "    <tr>\n",
              "      <th>25%</th>\n",
              "      <td>-0.607056</td>\n",
              "      <td>-0.777271</td>\n",
              "      <td>-0.650711</td>\n",
              "      <td>-0.824148</td>\n",
              "    </tr>\n",
              "    <tr>\n",
              "      <th>50%</th>\n",
              "      <td>-0.014083</td>\n",
              "      <td>-0.147942</td>\n",
              "      <td>-0.065393</td>\n",
              "      <td>-0.167854</td>\n",
              "    </tr>\n",
              "    <tr>\n",
              "      <th>75%</th>\n",
              "      <td>0.591228</td>\n",
              "      <td>0.589572</td>\n",
              "      <td>0.603573</td>\n",
              "      <td>0.584311</td>\n",
              "    </tr>\n",
              "    <tr>\n",
              "      <th>max</th>\n",
              "      <td>3.014765</td>\n",
              "      <td>2.761000</td>\n",
              "      <td>2.798826</td>\n",
              "      <td>2.784084</td>\n",
              "    </tr>\n",
              "  </tbody>\n",
              "</table>\n",
              "</div>"
            ],
            "text/plain": [
              "                A           B           C           D\n",
              "count  366.000000  366.000000  366.000000  366.000000\n",
              "mean    -0.038648   -0.068622   -0.033503   -0.111356\n",
              "std      0.939546    0.994116    0.974423    1.020539\n",
              "min     -3.252458   -3.182307   -2.967590   -2.828728\n",
              "25%     -0.607056   -0.777271   -0.650711   -0.824148\n",
              "50%     -0.014083   -0.147942   -0.065393   -0.167854\n",
              "75%      0.591228    0.589572    0.603573    0.584311\n",
              "max      3.014765    2.761000    2.798826    2.784084"
            ]
          },
          "metadata": {
            "tags": []
          },
          "execution_count": 5
        }
      ]
    },
    {
      "metadata": {
        "id": "hmD-7Yob6dbp",
        "colab_type": "text"
      },
      "cell_type": "markdown",
      "source": [
        "### Exercise 1.2:  The index is a time series, and pandas has a build-in command for re-sampling dataframes (documentation: https://pandas.pydata.org/pandas-docs/stable/generated/pandas.DataFrame.resample.html).  Use resample to get the median every 2 days and save this as a new dataframe."
      ]
    },
    {
      "metadata": {
        "id": "5wJqmywT6dbs",
        "colab_type": "code",
        "outputId": "a4df7617-a829-45d8-b5c0-e4a48cd723e2",
        "colab": {
          "base_uri": "https://localhost:8080/",
          "height": 206
        }
      },
      "cell_type": "code",
      "source": [
        "#Solution: \n",
        "data2 = data.resample('2D').median()\n",
        "data2.head()"
      ],
      "execution_count": 0,
      "outputs": [
        {
          "output_type": "execute_result",
          "data": {
            "text/html": [
              "<div>\n",
              "<style scoped>\n",
              "    .dataframe tbody tr th:only-of-type {\n",
              "        vertical-align: middle;\n",
              "    }\n",
              "\n",
              "    .dataframe tbody tr th {\n",
              "        vertical-align: top;\n",
              "    }\n",
              "\n",
              "    .dataframe thead th {\n",
              "        text-align: right;\n",
              "    }\n",
              "</style>\n",
              "<table border=\"1\" class=\"dataframe\">\n",
              "  <thead>\n",
              "    <tr style=\"text-align: right;\">\n",
              "      <th></th>\n",
              "      <th>A</th>\n",
              "      <th>B</th>\n",
              "      <th>C</th>\n",
              "      <th>D</th>\n",
              "    </tr>\n",
              "  </thead>\n",
              "  <tbody>\n",
              "    <tr>\n",
              "      <th>2013-01-01</th>\n",
              "      <td>-1.149821</td>\n",
              "      <td>0.686215</td>\n",
              "      <td>-0.538965</td>\n",
              "      <td>-0.162050</td>\n",
              "    </tr>\n",
              "    <tr>\n",
              "      <th>2013-01-03</th>\n",
              "      <td>-0.682891</td>\n",
              "      <td>-0.155321</td>\n",
              "      <td>0.836603</td>\n",
              "      <td>-0.175456</td>\n",
              "    </tr>\n",
              "    <tr>\n",
              "      <th>2013-01-05</th>\n",
              "      <td>-0.067507</td>\n",
              "      <td>-0.139621</td>\n",
              "      <td>-0.851468</td>\n",
              "      <td>-0.502497</td>\n",
              "    </tr>\n",
              "    <tr>\n",
              "      <th>2013-01-07</th>\n",
              "      <td>-0.461183</td>\n",
              "      <td>0.974751</td>\n",
              "      <td>-0.855159</td>\n",
              "      <td>0.132310</td>\n",
              "    </tr>\n",
              "    <tr>\n",
              "      <th>2013-01-09</th>\n",
              "      <td>0.396234</td>\n",
              "      <td>-1.100027</td>\n",
              "      <td>-0.975390</td>\n",
              "      <td>0.602435</td>\n",
              "    </tr>\n",
              "  </tbody>\n",
              "</table>\n",
              "</div>"
            ],
            "text/plain": [
              "                   A         B         C         D\n",
              "2013-01-01 -1.149821  0.686215 -0.538965 -0.162050\n",
              "2013-01-03 -0.682891 -0.155321  0.836603 -0.175456\n",
              "2013-01-05 -0.067507 -0.139621 -0.851468 -0.502497\n",
              "2013-01-07 -0.461183  0.974751 -0.855159  0.132310\n",
              "2013-01-09  0.396234 -1.100027 -0.975390  0.602435"
            ]
          },
          "metadata": {
            "tags": []
          },
          "execution_count": 6
        }
      ]
    },
    {
      "metadata": {
        "id": "HXLwRIzL6db2",
        "colab_type": "text"
      },
      "cell_type": "markdown",
      "source": [
        "### Exercise 1.3: Inspect the new dataframe to see the difference in size compared to the inital dataframe."
      ]
    },
    {
      "metadata": {
        "id": "WIhom0Ar6db9",
        "colab_type": "code",
        "outputId": "e4b150b5-07e3-4f1c-a625-d1980ec15944",
        "colab": {
          "base_uri": "https://localhost:8080/",
          "height": 52
        }
      },
      "cell_type": "code",
      "source": [
        "#Solution: \n",
        "print(data.shape)\n",
        "print(data2.shape)"
      ],
      "execution_count": 0,
      "outputs": [
        {
          "output_type": "stream",
          "text": [
            "(366, 4)\n",
            "(183, 4)\n"
          ],
          "name": "stdout"
        }
      ]
    },
    {
      "metadata": {
        "id": "p5JU3mAs6dcQ",
        "colab_type": "text"
      },
      "cell_type": "markdown",
      "source": [
        "### Exercise 1.4:  Write your new dataframe to a csv file."
      ]
    },
    {
      "metadata": {
        "id": "CnSrCVLm6dcX",
        "colab_type": "code",
        "colab": {}
      },
      "cell_type": "code",
      "source": [
        "#Solution: \n",
        "data2.to_csv(\"data2.csv\")"
      ],
      "execution_count": 0,
      "outputs": []
    },
    {
      "metadata": {
        "id": "gmovSgWc6dcd",
        "colab_type": "text"
      },
      "cell_type": "markdown",
      "source": [
        "### Exercise 1.5: Merge the two dataframes. There are several ways to do this, see also https://pandas.pydata.org/pandas-docs/stable/merging.html."
      ]
    },
    {
      "metadata": {
        "id": "fM8zM2ZK6dcf",
        "colab_type": "code",
        "outputId": "e686007d-6cde-4afc-e158-04e9a233bb9a",
        "colab": {
          "base_uri": "https://localhost:8080/",
          "height": 156
        }
      },
      "cell_type": "code",
      "source": [
        "# Solution\n",
        "merged = pd.concat([data, data2])\n",
        "merged.index"
      ],
      "execution_count": 0,
      "outputs": [
        {
          "output_type": "execute_result",
          "data": {
            "text/plain": [
              "DatetimeIndex(['2013-01-01', '2013-01-02', '2013-01-03', '2013-01-04',\n",
              "               '2013-01-05', '2013-01-06', '2013-01-07', '2013-01-08',\n",
              "               '2013-01-09', '2013-01-10',\n",
              "               ...\n",
              "               '2013-12-13', '2013-12-15', '2013-12-17', '2013-12-19',\n",
              "               '2013-12-21', '2013-12-23', '2013-12-25', '2013-12-27',\n",
              "               '2013-12-29', '2013-12-31'],\n",
              "              dtype='datetime64[ns]', length=549, freq=None)"
            ]
          },
          "metadata": {
            "tags": []
          },
          "execution_count": 9
        }
      ]
    },
    {
      "metadata": {
        "id": "0iDecmEz6dco",
        "colab_type": "text"
      },
      "cell_type": "markdown",
      "source": [
        "### Exercise 1.6: There are several ways to perform actions on the dataframe columns. The dataframe has several columns containing negative values. For this exercise, find these negative values on a column, and create a new column with their absolute value, using a list comprehension, and after this, using a lambda function. You can use the magic timeit to see if there is a difference between these operations."
      ]
    },
    {
      "metadata": {
        "id": "IzGhRf0y6dcs",
        "colab_type": "code",
        "outputId": "6b645fb6-0f37-4fb2-e1ca-bd4605dde84e",
        "colab": {
          "base_uri": "https://localhost:8080/",
          "height": 224
        }
      },
      "cell_type": "code",
      "source": [
        "# Solution\n",
        "# method 1: list comprehension\n",
        "start = timeit.timeit()\n",
        "\n",
        "a = [np.abs(x) for x in data.B]\n",
        "data[\"abs(B)\"] = pd.Series(a,index=data.index)\n",
        "end = timeit.timeit()\n",
        "print(end - start)\n",
        "data.head()"
      ],
      "execution_count": 0,
      "outputs": [
        {
          "output_type": "stream",
          "text": [
            "-0.004830483999995749\n"
          ],
          "name": "stdout"
        },
        {
          "output_type": "execute_result",
          "data": {
            "text/html": [
              "<div>\n",
              "<style scoped>\n",
              "    .dataframe tbody tr th:only-of-type {\n",
              "        vertical-align: middle;\n",
              "    }\n",
              "\n",
              "    .dataframe tbody tr th {\n",
              "        vertical-align: top;\n",
              "    }\n",
              "\n",
              "    .dataframe thead th {\n",
              "        text-align: right;\n",
              "    }\n",
              "</style>\n",
              "<table border=\"1\" class=\"dataframe\">\n",
              "  <thead>\n",
              "    <tr style=\"text-align: right;\">\n",
              "      <th></th>\n",
              "      <th>A</th>\n",
              "      <th>B</th>\n",
              "      <th>C</th>\n",
              "      <th>D</th>\n",
              "      <th>abs(B)</th>\n",
              "    </tr>\n",
              "  </thead>\n",
              "  <tbody>\n",
              "    <tr>\n",
              "      <th>2013-01-01</th>\n",
              "      <td>-0.865065</td>\n",
              "      <td>-1.323184</td>\n",
              "      <td>-2.060583</td>\n",
              "      <td>-1.093683</td>\n",
              "      <td>1.323184</td>\n",
              "    </tr>\n",
              "    <tr>\n",
              "      <th>2013-01-02</th>\n",
              "      <td>-1.434577</td>\n",
              "      <td>2.695614</td>\n",
              "      <td>0.982652</td>\n",
              "      <td>0.769584</td>\n",
              "      <td>2.695614</td>\n",
              "    </tr>\n",
              "    <tr>\n",
              "      <th>2013-01-03</th>\n",
              "      <td>-1.520955</td>\n",
              "      <td>-0.184620</td>\n",
              "      <td>1.768990</td>\n",
              "      <td>0.251867</td>\n",
              "      <td>0.184620</td>\n",
              "    </tr>\n",
              "    <tr>\n",
              "      <th>2013-01-04</th>\n",
              "      <td>0.155172</td>\n",
              "      <td>-0.126022</td>\n",
              "      <td>-0.095785</td>\n",
              "      <td>-0.602780</td>\n",
              "      <td>0.126022</td>\n",
              "    </tr>\n",
              "    <tr>\n",
              "      <th>2013-01-05</th>\n",
              "      <td>-0.584360</td>\n",
              "      <td>0.568325</td>\n",
              "      <td>-1.016321</td>\n",
              "      <td>0.447643</td>\n",
              "      <td>0.568325</td>\n",
              "    </tr>\n",
              "  </tbody>\n",
              "</table>\n",
              "</div>"
            ],
            "text/plain": [
              "                   A         B         C         D    abs(B)\n",
              "2013-01-01 -0.865065 -1.323184 -2.060583 -1.093683  1.323184\n",
              "2013-01-02 -1.434577  2.695614  0.982652  0.769584  2.695614\n",
              "2013-01-03 -1.520955 -0.184620  1.768990  0.251867  0.184620\n",
              "2013-01-04  0.155172 -0.126022 -0.095785 -0.602780  0.126022\n",
              "2013-01-05 -0.584360  0.568325 -1.016321  0.447643  0.568325"
            ]
          },
          "metadata": {
            "tags": []
          },
          "execution_count": 10
        }
      ]
    },
    {
      "metadata": {
        "id": "6THTnwUd6dc0",
        "colab_type": "code",
        "outputId": "84c8df5c-d839-448b-cbb2-03b7164a997e",
        "colab": {
          "base_uri": "https://localhost:8080/",
          "height": 224
        }
      },
      "cell_type": "code",
      "source": [
        "# Solution\n",
        "# method 2: lambda function\n",
        "start = timeit.timeit()\n",
        "\n",
        "data[\"abs(C)\"] = data.C.apply(lambda x: np.abs(x))\n",
        "end = timeit.timeit()\n",
        "print(end - start)\n",
        "data.head()"
      ],
      "execution_count": 0,
      "outputs": [
        {
          "output_type": "stream",
          "text": [
            "-0.006581885999963788\n"
          ],
          "name": "stdout"
        },
        {
          "output_type": "execute_result",
          "data": {
            "text/html": [
              "<div>\n",
              "<style scoped>\n",
              "    .dataframe tbody tr th:only-of-type {\n",
              "        vertical-align: middle;\n",
              "    }\n",
              "\n",
              "    .dataframe tbody tr th {\n",
              "        vertical-align: top;\n",
              "    }\n",
              "\n",
              "    .dataframe thead th {\n",
              "        text-align: right;\n",
              "    }\n",
              "</style>\n",
              "<table border=\"1\" class=\"dataframe\">\n",
              "  <thead>\n",
              "    <tr style=\"text-align: right;\">\n",
              "      <th></th>\n",
              "      <th>A</th>\n",
              "      <th>B</th>\n",
              "      <th>C</th>\n",
              "      <th>D</th>\n",
              "      <th>abs(B)</th>\n",
              "      <th>abs(C)</th>\n",
              "    </tr>\n",
              "  </thead>\n",
              "  <tbody>\n",
              "    <tr>\n",
              "      <th>2013-01-01</th>\n",
              "      <td>-0.865065</td>\n",
              "      <td>-1.323184</td>\n",
              "      <td>-2.060583</td>\n",
              "      <td>-1.093683</td>\n",
              "      <td>1.323184</td>\n",
              "      <td>2.060583</td>\n",
              "    </tr>\n",
              "    <tr>\n",
              "      <th>2013-01-02</th>\n",
              "      <td>-1.434577</td>\n",
              "      <td>2.695614</td>\n",
              "      <td>0.982652</td>\n",
              "      <td>0.769584</td>\n",
              "      <td>2.695614</td>\n",
              "      <td>0.982652</td>\n",
              "    </tr>\n",
              "    <tr>\n",
              "      <th>2013-01-03</th>\n",
              "      <td>-1.520955</td>\n",
              "      <td>-0.184620</td>\n",
              "      <td>1.768990</td>\n",
              "      <td>0.251867</td>\n",
              "      <td>0.184620</td>\n",
              "      <td>1.768990</td>\n",
              "    </tr>\n",
              "    <tr>\n",
              "      <th>2013-01-04</th>\n",
              "      <td>0.155172</td>\n",
              "      <td>-0.126022</td>\n",
              "      <td>-0.095785</td>\n",
              "      <td>-0.602780</td>\n",
              "      <td>0.126022</td>\n",
              "      <td>0.095785</td>\n",
              "    </tr>\n",
              "    <tr>\n",
              "      <th>2013-01-05</th>\n",
              "      <td>-0.584360</td>\n",
              "      <td>0.568325</td>\n",
              "      <td>-1.016321</td>\n",
              "      <td>0.447643</td>\n",
              "      <td>0.568325</td>\n",
              "      <td>1.016321</td>\n",
              "    </tr>\n",
              "  </tbody>\n",
              "</table>\n",
              "</div>"
            ],
            "text/plain": [
              "                   A         B         C         D    abs(B)    abs(C)\n",
              "2013-01-01 -0.865065 -1.323184 -2.060583 -1.093683  1.323184  2.060583\n",
              "2013-01-02 -1.434577  2.695614  0.982652  0.769584  2.695614  0.982652\n",
              "2013-01-03 -1.520955 -0.184620  1.768990  0.251867  0.184620  1.768990\n",
              "2013-01-04  0.155172 -0.126022 -0.095785 -0.602780  0.126022  0.095785\n",
              "2013-01-05 -0.584360  0.568325 -1.016321  0.447643  0.568325  1.016321"
            ]
          },
          "metadata": {
            "tags": []
          },
          "execution_count": 11
        }
      ]
    },
    {
      "metadata": {
        "id": "Ldrd1OoP6dc-",
        "colab_type": "text"
      },
      "cell_type": "markdown",
      "source": [
        "## Supervised learning using scikit-learn - Classification of MNIST data"
      ]
    },
    {
      "metadata": {
        "id": "KgzFlUTz6ddA",
        "colab_type": "text"
      },
      "cell_type": "markdown",
      "source": [
        "### Exercise 2.1: Download the digit ('MNIST original') dataset from  mldata.org, which is a public repository for machine learning data. Divide the data into training and testing. Please use 1/7 for training and the rest for testing. \n",
        "\n",
        "Hint: The sklearn.datasets package is able to directly download data sets from the repository using the function sklearn.datasets.fetch_mldata. Generate the training and testing set by importing train_test_split from sklearn.model_selection\n",
        "\n",
        " "
      ]
    },
    {
      "metadata": {
        "id": "IxFvwjRL6ddE",
        "colab_type": "code",
        "colab": {}
      },
      "cell_type": "code",
      "source": [
        "# Solution\n",
        "\n",
        "import sklearn \n",
        "from sklearn.datasets import fetch_openml\n",
        "\n",
        "# Download the MNIST original dataset\n",
        "# Load data from https://www.openml.org/d/554\n",
        "x, y = fetch_openml('mnist_784', version=1, return_X_y=True)\n",
        "\n",
        "from sklearn.model_selection import train_test_split\n",
        "\n",
        "# Split the images into training and testing\n",
        "x_tr, x_va, y_tr, y_va = train_test_split(x, y, test_size = 1/7.0)\n"
      ],
      "execution_count": 0,
      "outputs": []
    },
    {
      "metadata": {
        "collapsed": true,
        "id": "C20G7FRr6ddI",
        "colab_type": "text"
      },
      "cell_type": "markdown",
      "source": [
        "### Exercise 2.2: The optimal performance of many machine learning algorithms is affected by scale. Typically, you need to scale the features in your data before applying any algorithm. Normalize the data and plot some random images from the dataset.  \n",
        "\n",
        "Hint: Use StandardScaler from sklearn.preprocessing to help you standardize the dataset’s features onto unit scale (mean = 0 and variance = 1)\n",
        "\n"
      ]
    },
    {
      "metadata": {
        "id": "OhdXffeB6ddO",
        "colab_type": "code",
        "colab": {}
      },
      "cell_type": "code",
      "source": [
        "# Solution\n",
        "\n",
        "from sklearn.preprocessing import StandardScaler\n",
        "scaler = StandardScaler()\n",
        "\n",
        "# Fit on training set only\n",
        "scaler.fit(x_tr)\n",
        "\n",
        "# Apply transform to both the training set and the test set\n",
        "x_tr = scaler.transform(x_tr)\n",
        "x_va = scaler.transform(x_va)"
      ],
      "execution_count": 0,
      "outputs": []
    },
    {
      "metadata": {
        "id": "_N4fOReI6ddY",
        "colab_type": "code",
        "outputId": "f0ba5e03-0a77-48d4-f5ab-2267cfc0d149",
        "colab": {
          "base_uri": "https://localhost:8080/",
          "height": 282
        }
      },
      "cell_type": "code",
      "source": [
        "# Solution (Visualization)\n",
        "%matplotlib inline\n",
        "\n",
        "import matplotlib.pyplot as plt\n",
        "plt.imshow(x_tr[0].reshape((28,28)))"
      ],
      "execution_count": 5,
      "outputs": [
        {
          "output_type": "execute_result",
          "data": {
            "text/plain": [
              "<matplotlib.image.AxesImage at 0x7fe447d76898>"
            ]
          },
          "metadata": {
            "tags": []
          },
          "execution_count": 5
        },
        {
          "output_type": "display_data",
          "data": {
            "image/png": "[encoded data removed]",
            "text/plain": [
              "<Figure size 432x288 with 1 Axes>"
            ]
          },
          "metadata": {
            "tags": []
          }
        }
      ]
    },
    {
      "metadata": {
        "id": "6tXdUmGD6ddm",
        "colab_type": "text"
      },
      "cell_type": "markdown",
      "source": [
        "### Exercise 2.3: Logistic regression is one of the simplest linear classification algorithms. Fit a logistic regression model to the training images. Compute the accuracy of the classifier on the test images, and the time needed to train the model.¶\n",
        "\n",
        "Hint: Use LogisticRegression from sklearn.linear_model. To increase speed, change the default solver to 'lbfgs'\n"
      ]
    },
    {
      "metadata": {
        "id": "EJTqEnUi6ddp",
        "colab_type": "code",
        "outputId": "84480a2e-669b-4dde-bd05-f608289896da",
        "colab": {
          "base_uri": "https://localhost:8080/",
          "height": 159
        }
      },
      "cell_type": "code",
      "source": [
        "# Solution\n",
        "\n",
        "from time import time\n",
        "from sklearn.linear_model import LogisticRegression\n",
        "\n",
        "tic = time()\n",
        "# Fit a linear regression model\n",
        "lr = LogisticRegression(solver='lbfgs',verbose=1,n_jobs=-1)\n",
        "lr.fit(x_tr, y_tr)\n",
        "\n",
        "# Compute the classification score\n",
        "print(lr.score(x_tr, y_tr))\n",
        "print(lr.score(x_va, y_va))\n",
        "toc = time()\n",
        "print('The total time is %s seconds ' % (toc-tic))\n"
      ],
      "execution_count": 0,
      "outputs": [
        {
          "output_type": "stream",
          "text": [
            "/usr/local/lib/python3.6/dist-packages/sklearn/linear_model/logistic.py:460: FutureWarning: Default multi_class will be changed to 'auto' in 0.22. Specify the multi_class option to silence this warning.\n",
            "  \"this warning.\", FutureWarning)\n",
            "[Parallel(n_jobs=-1)]: Using backend LokyBackend with 2 concurrent workers.\n",
            "[Parallel(n_jobs=-1)]: Done  10 out of  10 | elapsed:  4.3min finished\n"
          ],
          "name": "stderr"
        },
        {
          "output_type": "stream",
          "text": [
            "0.9321833333333334\n",
            "0.9158\n",
            "The total time is 260.70635056495667 seconds \n"
          ],
          "name": "stdout"
        }
      ]
    },
    {
      "metadata": {
        "id": "RVCrmKMv6ddx",
        "colab_type": "code",
        "colab": {}
      },
      "cell_type": "code",
      "source": [
        ""
      ],
      "execution_count": 0,
      "outputs": []
    },
    {
      "metadata": {
        "id": "a5T2GIiW6dd6",
        "colab_type": "text"
      },
      "cell_type": "markdown",
      "source": [
        "### Exercise 2.4: Apply Principle Component Analysis (PCA) to the training signals by keeping only (a) 25%, (b) 75%, and (c) 95% of the energy. For each of the three cases, output the number of the required principle components.Then, plot the Cumulative Explained Variance over PCA. Finally, choose a random image from the dataset, and show its approximation with the PCA components. \n",
        "\n",
        "Hint: For computing the Cumulative Explained Variance over PCA use:\n",
        "```\n",
        "pca.explained_variance_ratio_.cumsum()\n",
        "\n",
        "```"
      ]
    },
    {
      "metadata": {
        "id": "bs8WV4xK6dd7",
        "colab_type": "code",
        "outputId": "7c204a5d-0790-4c52-f5d4-f6c8c3e99a0d",
        "colab": {
          "base_uri": "https://localhost:8080/",
          "height": 208
        }
      },
      "cell_type": "code",
      "source": [
        "# Solution \n",
        "from sklearn.decomposition import PCA\n",
        "\n",
        "# Fit a PCA model\n",
        "print(\"Fitting PCA 25%\")\n",
        "pca25 = PCA(n_components=0.25)\n",
        "pca25.fit(x_tr)\n",
        "print(\"Finished fitting PCA 25%\")\n",
        "\n",
        "print(\"Fitting PCA 75%\")\n",
        "pca75 = PCA(n_components=0.75)\n",
        "pca75.fit(x_tr)\n",
        "print(\"Finished fitting PCA 75%\")\n",
        "\n",
        "print(\"Fitting PCA 95%\")\n",
        "pca95 = PCA(n_components=0.95)\n",
        "pca95.fit(x_tr)\n",
        "print(\"Finished fitting PCA 95%\\n\\n\")\n",
        "\n",
        "\n",
        "# Compute the number of PCA components\n",
        "print(\"Number of components for 25% is: \" + str(pca25.n_components_))\n",
        "print(\"Number of components for 75% is: \" + str(pca75.n_components_))\n",
        "print(\"Number of components for 95% is: \" + str(pca95.n_components_))\n"
      ],
      "execution_count": 9,
      "outputs": [
        {
          "output_type": "stream",
          "text": [
            "Fitting PCA 25%\n",
            "Finished fitting PCA 25%\n",
            "Fitting PCA 75%\n",
            "Finished fitting PCA 75%\n",
            "Fitting PCA 95%\n",
            "Finished fitting PCA 95%\n",
            "\n",
            "\n",
            "Number of components for 25% is: 9\n",
            "Number of components for 75% is: 120\n",
            "Number of components for 95% is: 329\n"
          ],
          "name": "stdout"
        }
      ]
    },
    {
      "metadata": {
        "id": "Yqdu2I146deC",
        "colab_type": "code",
        "outputId": "5e974044-a756-4cb4-d664-f4c2cb0198ce",
        "colab": {
          "base_uri": "https://localhost:8080/",
          "height": 69
        }
      },
      "cell_type": "code",
      "source": [
        "# Plot the Cumulative Explained Variance over PCA\n",
        "cev25 = pca25.explained_variance_ratio_.sum()\n",
        "cev75 = pca75.explained_variance_ratio_.sum()\n",
        "cev95 = pca95.explained_variance_ratio_.sum()\n",
        "\n",
        "print(\"The Cumulative Explained Variance of the 25% PCA model is: \" + str(cev25))\n",
        "print(\"The Cumulative Explained Variance of the 75% PCA model is: \" + str(cev75))\n",
        "print(\"The Cumulative Explained Variance of the 95% PCA model is: \" + str(cev95))"
      ],
      "execution_count": 0,
      "outputs": [
        {
          "output_type": "stream",
          "text": [
            "The Cumulative Explained Variance of the 25% PCA model is: 0.26420783426145883\n",
            "The Cumulative Explained Variance of the 75% PCA model is: 0.7505683303267402\n",
            "The Cumulative Explained Variance of the 95% PCA model is: 0.9501584530941278\n"
          ],
          "name": "stdout"
        }
      ]
    },
    {
      "metadata": {
        "id": "PoXh4_3m6deI",
        "colab_type": "code",
        "outputId": "f51b9773-3fa0-4c82-9143-10a62e4cd45c",
        "colab": {
          "base_uri": "https://localhost:8080/",
          "height": 286
        }
      },
      "cell_type": "code",
      "source": [
        "# Choose a random image from the dataset, and show its approximation with the PCA components\n",
        "random_image = x[np.random.randint(0, x.shape[0], 1)]\n",
        "plt.figure(figsize=(8,4));\n",
        "\n",
        "# Original Image\n",
        "plt.subplot(1, 2, 1);\n",
        "plt.imshow(random_image.reshape(28,28))\n",
        "\n",
        "# Approximation\n",
        "plt.subplot(1, 2, 2);\n",
        "transformed_image = pca25.inverse_transform(pca25.transform(random_image))\n",
        "print(transformed_image.shape)\n",
        "plt.imshow(transformed_image[0].reshape(28,28))\n"
      ],
      "execution_count": 0,
      "outputs": [
        {
          "output_type": "stream",
          "text": [
            "(1, 784)\n"
          ],
          "name": "stdout"
        },
        {
          "output_type": "execute_result",
          "data": {
            "text/plain": [
              "<matplotlib.image.AxesImage at 0x7f98582f22e8>"
            ]
          },
          "metadata": {
            "tags": []
          },
          "execution_count": 28
        },
        {
          "output_type": "display_data",
          "data": {
            "image/png": "[encoded data removed]",
            "text/plain": [
              "<Figure size 576x288 with 2 Axes>"
            ]
          },
          "metadata": {
            "tags": []
          }
        }
      ]
    },
    {
      "metadata": {
        "id": "2sDnwM1g6deM",
        "colab_type": "text"
      },
      "cell_type": "markdown",
      "source": [
        "### Exercise 2.5: Fit a logistic regression model to the approximation of the training images with 95% of explained variance. Compute the accuracy of the classifier and the time needed to train the model. Compare it to the one obtained in 2.3. What do you observe? \n"
      ]
    },
    {
      "metadata": {
        "id": "pIUyvzAS6deW",
        "colab_type": "code",
        "outputId": "6d81a55e-7986-4a5f-931b-997237c87e10",
        "colab": {
          "base_uri": "https://localhost:8080/",
          "height": 159
        }
      },
      "cell_type": "code",
      "source": [
        "# Solution\n",
        "pca95x_tr = pca25.transform(x_tr)\n",
        "pca95x_va = pca25.transform(x_va)\n",
        "\n",
        "\n",
        "tic = time()\n",
        "# Fit a linear regression model\n",
        "lr = LogisticRegression(solver='lbfgs',verbose=1,n_jobs=-1)\n",
        "lr.fit(pca95x_tr, y_tr)\n",
        "\n",
        "# Compute the classification score\n",
        "print(lr.score(pca95x_tr, y_tr))\n",
        "print(lr.score(pca95x_va, y_va))\n",
        "toc = time()\n",
        "print('The total time is %s seconds ' % (toc-tic))\n"
      ],
      "execution_count": 0,
      "outputs": [
        {
          "output_type": "stream",
          "text": [
            "/usr/local/lib/python3.6/dist-packages/sklearn/linear_model/logistic.py:460: FutureWarning: Default multi_class will be changed to 'auto' in 0.22. Specify the multi_class option to silence this warning.\n",
            "  \"this warning.\", FutureWarning)\n",
            "[Parallel(n_jobs=-1)]: Using backend LokyBackend with 2 concurrent workers.\n"
          ],
          "name": "stderr"
        },
        {
          "output_type": "stream",
          "text": [
            "0.7618166666666667\n",
            "0.7632\n",
            "The total time is 4.924222469329834 seconds \n"
          ],
          "name": "stdout"
        },
        {
          "output_type": "stream",
          "text": [
            "[Parallel(n_jobs=-1)]: Done  10 out of  10 | elapsed:    4.7s finished\n"
          ],
          "name": "stderr"
        }
      ]
    },
    {
      "metadata": {
        "id": "9fSPR0Xx6dei",
        "colab_type": "text"
      },
      "cell_type": "markdown",
      "source": [
        "## Unsupervised learning with sklearn.cluster.KMeans()"
      ]
    },
    {
      "metadata": {
        "id": "zl-I6x0P6dej",
        "colab_type": "text"
      },
      "cell_type": "markdown",
      "source": [
        "###  Exercise 3.1: Generate a set of 6 isotropic Gaussian blobs, with 1000 samples each. Each sample should have 60 features. \n",
        "\n",
        "Hint: Use the sklearn.datasets.make_blobs to generate the data"
      ]
    },
    {
      "metadata": {
        "id": "myBKJicW6del",
        "colab_type": "code",
        "outputId": "6209a3db-66b9-413a-cd69-4be556f2bec0",
        "colab": {
          "base_uri": "https://localhost:8080/",
          "height": 34
        }
      },
      "cell_type": "code",
      "source": [
        "# Solution\n",
        "\n",
        "from sklearn.cluster import KMeans\n",
        "from sklearn.datasets.samples_generator import make_blobs\n",
        "\n",
        "# Generate the data\n",
        "x, y = make_blobs(n_samples=1000, n_features=60, centers=6)\n",
        "x.shape"
      ],
      "execution_count": 7,
      "outputs": [
        {
          "output_type": "execute_result",
          "data": {
            "text/plain": [
              "(1000, 60)"
            ]
          },
          "metadata": {
            "tags": []
          },
          "execution_count": 7
        }
      ]
    },
    {
      "metadata": {
        "id": "yFcrJFxe6deu",
        "colab_type": "text"
      },
      "cell_type": "markdown",
      "source": [
        "###  Exercise 3.2: Apply PCA to the generated data. Store the first two principle components and their cluster index to a new dataframe.  Visualize the 6 blobs based only on these two components. "
      ]
    },
    {
      "metadata": {
        "id": "ZU1YxB626dev",
        "colab_type": "code",
        "outputId": "70adf013-a9c3-44a0-9dea-f8f77e0580c3",
        "colab": {
          "base_uri": "https://localhost:8080/",
          "height": 334
        }
      },
      "cell_type": "code",
      "source": [
        "# Solution\n",
        "\n",
        "# Fit PCA to the data\n",
        "pca = PCA(n_components=2)\n",
        "pca.fit(x)\n",
        "best_comps = pca.components_\n",
        "pca2x = pca.transform(x)\n",
        "\n",
        "# Generate a new dataframe and store the first two Principle Components and the true cluster index\n",
        "df = pd.DataFrame()\n",
        "df[\"Comp_0\"] = pca2x[:,0]\n",
        "df[\"Comp_1\"] = pca2x[:,1]\n",
        "df[\"Cluster\"] = y\n",
        "df.head()\n",
        "# Vizualize the data by plotting their representation on the two Principle Components (x and y axis)\n",
        "df.plot.scatter(0,1)"
      ],
      "execution_count": 12,
      "outputs": [
        {
          "output_type": "stream",
          "text": [
            "'c' argument looks like a single numeric RGB or RGBA sequence, which should be avoided as value-mapping will have precedence in case its length matches with 'x' & 'y'.  Please use a 2-D array with a single row if you really want to specify the same RGB or RGBA value for all points.\n"
          ],
          "name": "stderr"
        },
        {
          "output_type": "execute_result",
          "data": {
            "text/plain": [
              "<matplotlib.axes._subplots.AxesSubplot at 0x7fe43eb9f0b8>"
            ]
          },
          "metadata": {
            "tags": []
          },
          "execution_count": 12
        },
        {
          "output_type": "display_data",
          "data": {
            "image/png": "[encoded data removed]",
            "text/plain": [
              "<Figure size 432x288 with 1 Axes>"
            ]
          },
          "metadata": {
            "tags": []
          }
        }
      ]
    },
    {
      "metadata": {
        "id": "8n3T5UA16de0",
        "colab_type": "text"
      },
      "cell_type": "markdown",
      "source": [
        "### Exercise 3.3: Set the number of clusters to 6 and apply Kmeans clustering to the data. Compute the accuracy score between the true labels and the ones estimated by the Kmeans algorithm. "
      ]
    },
    {
      "metadata": {
        "id": "mlKOiIpo6de2",
        "colab_type": "code",
        "colab": {
          "base_uri": "https://localhost:8080/",
          "height": 34
        },
        "outputId": "a25cf057-0e26-416e-b3fa-8c3430653629"
      },
      "cell_type": "code",
      "source": [
        "# Solution\n",
        "\n",
        "from sklearn.cluster import KMeans\n",
        "\n",
        "# Fit a Kmean model to the data\n",
        "kmeans = KMeans(n_clusters=6, random_state=0)\n",
        "kmeans.fit(x)\n",
        "\n",
        "from scipy.stats import mode\n",
        "\n",
        "# Uncomment this part to compute the accuracy score\n",
        "#  y_true: the true cluster index\n",
        "#  y_kmeans: the cluster index assigned by Kmeans\n",
        "\n",
        "y_true = df[\"Cluster\"].values\n",
        "y_kmeans = kmeans.predict(x)\n",
        "labels = np.zeros_like(y_true)\n",
        "for i in range(6):\n",
        "    mask = (y_kmeans == i)\n",
        "    labels[mask] = mode(y_true[mask])[0]\n",
        "    \n",
        "from sklearn.metrics import accuracy_score\n",
        "accuracy_score(y_true, labels)\n",
        "\n"
      ],
      "execution_count": 15,
      "outputs": [
        {
          "output_type": "execute_result",
          "data": {
            "text/plain": [
              "1.0"
            ]
          },
          "metadata": {
            "tags": []
          },
          "execution_count": 15
        }
      ]
    },
    {
      "metadata": {
        "id": "5YDsYYk26de8",
        "colab_type": "text"
      },
      "cell_type": "markdown",
      "source": [
        "### Exercise 3.4: Do the same by clustering the data using only the first 2 principle components. What do you observe? "
      ]
    },
    {
      "metadata": {
        "id": "q-jEOUt86de9",
        "colab_type": "code",
        "colab": {
          "base_uri": "https://localhost:8080/",
          "height": 34
        },
        "outputId": "c6e08bc3-b62b-45ed-d925-55b262d7d2d3"
      },
      "cell_type": "code",
      "source": [
        "# Solution\n",
        "\n",
        "# Fit a Kmeans model to the first 2 PCA coefficients of the data\n",
        "\n",
        "kmeans = KMeans(n_clusters=6, random_state=0)\n",
        "kmeans.fit(df[[\"Comp_0\", \"Comp_1\"]].values)\n",
        "\n",
        "# Uncomment this part to compute the accuracy score\n",
        "# y_true: the true cluster index\n",
        "# y_kmeans: the cluster index assigned by Kmeans\n",
        "\n",
        "y_true = df[\"Cluster\"].values\n",
        "y_kmeans = kmeans.predict(df[[\"Comp_0\", \"Comp_1\"]].values)\n",
        "labels = np.zeros_like(y_true)\n",
        "for i in range(6):\n",
        "    mask = (y_kmeans == i)\n",
        "    labels[mask] = mode(y_true[mask])[0]\n",
        "    \n",
        "from sklearn.metrics import accuracy_score\n",
        "accuracy_score(y_true, labels)"
      ],
      "execution_count": 16,
      "outputs": [
        {
          "output_type": "execute_result",
          "data": {
            "text/plain": [
              "0.978"
            ]
          },
          "metadata": {
            "tags": []
          },
          "execution_count": 16
        }
      ]
    },
    {
      "metadata": {
        "id": "_N8hBQbrtq9m",
        "colab_type": "code",
        "colab": {}
      },
      "cell_type": "code",
      "source": [
        ""
      ],
      "execution_count": 0,
      "outputs": []
    }
  ]
}