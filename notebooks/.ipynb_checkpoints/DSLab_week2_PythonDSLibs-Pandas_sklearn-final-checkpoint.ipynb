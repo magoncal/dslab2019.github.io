{
 "cells": [
  {
   "cell_type": "markdown",
   "metadata": {},
   "source": [
    "## Getting familiar with Pandas"
   ]
  },
  {
   "cell_type": "code",
   "execution_count": 1,
   "metadata": {},
   "outputs": [],
   "source": [
    "## Pandas \n",
    "# there are several ways to change a column in a dataframe\n",
    "# A short intro to pandas https://pandas.pydata.org/pandas-docs/stable/10min.html\n",
    "\n",
    "import pandas as pd\n",
    "import numpy as np\n",
    "import random\n",
    "import timeit"
   ]
  },
  {
   "cell_type": "code",
   "execution_count": 2,
   "metadata": {},
   "outputs": [],
   "source": [
    "# First step: make the dataframe\n",
    "dates = pd.date_range('20130101', '20140101') #366\n",
    "data = pd.DataFrame(np.random.randn(366,4), index=dates, columns=list('ABCD'))"
   ]
  },
  {
   "cell_type": "markdown",
   "metadata": {},
   "source": [
    "### Exercise 1.1: Inspect the dataframe with the following commands: head(), tail(), describe."
   ]
  },
  {
   "cell_type": "code",
   "execution_count": 3,
   "metadata": {},
   "outputs": [
    {
     "data": {
      "text/html": [
       "<div>\n",
       "<style scoped>\n",
       "    .dataframe tbody tr th:only-of-type {\n",
       "        vertical-align: middle;\n",
       "    }\n",
       "\n",
       "    .dataframe tbody tr th {\n",
       "        vertical-align: top;\n",
       "    }\n",
       "\n",
       "    .dataframe thead th {\n",
       "        text-align: right;\n",
       "    }\n",
       "</style>\n",
       "<table border=\"1\" class=\"dataframe\">\n",
       "  <thead>\n",
       "    <tr style=\"text-align: right;\">\n",
       "      <th></th>\n",
       "      <th>A</th>\n",
       "      <th>B</th>\n",
       "      <th>C</th>\n",
       "      <th>D</th>\n",
       "    </tr>\n",
       "  </thead>\n",
       "  <tbody>\n",
       "    <tr>\n",
       "      <th>2013-01-01</th>\n",
       "      <td>0.983005</td>\n",
       "      <td>-0.537476</td>\n",
       "      <td>1.580662</td>\n",
       "      <td>-1.453317</td>\n",
       "    </tr>\n",
       "    <tr>\n",
       "      <th>2013-01-02</th>\n",
       "      <td>2.940801</td>\n",
       "      <td>-0.568270</td>\n",
       "      <td>-0.283466</td>\n",
       "      <td>1.957779</td>\n",
       "    </tr>\n",
       "    <tr>\n",
       "      <th>2013-01-03</th>\n",
       "      <td>0.284637</td>\n",
       "      <td>-0.404083</td>\n",
       "      <td>0.464377</td>\n",
       "      <td>-1.684686</td>\n",
       "    </tr>\n",
       "    <tr>\n",
       "      <th>2013-01-04</th>\n",
       "      <td>0.465034</td>\n",
       "      <td>0.395585</td>\n",
       "      <td>0.308059</td>\n",
       "      <td>-1.244796</td>\n",
       "    </tr>\n",
       "    <tr>\n",
       "      <th>2013-01-05</th>\n",
       "      <td>-0.175122</td>\n",
       "      <td>0.820005</td>\n",
       "      <td>-0.967494</td>\n",
       "      <td>-0.105094</td>\n",
       "    </tr>\n",
       "  </tbody>\n",
       "</table>\n",
       "</div>"
      ],
      "text/plain": [
       "                   A         B         C         D\n",
       "2013-01-01  0.983005 -0.537476  1.580662 -1.453317\n",
       "2013-01-02  2.940801 -0.568270 -0.283466  1.957779\n",
       "2013-01-03  0.284637 -0.404083  0.464377 -1.684686\n",
       "2013-01-04  0.465034  0.395585  0.308059 -1.244796\n",
       "2013-01-05 -0.175122  0.820005 -0.967494 -0.105094"
      ]
     },
     "execution_count": 3,
     "metadata": {},
     "output_type": "execute_result"
    }
   ],
   "source": [
    "# Solution\n",
    "data.head()"
   ]
  },
  {
   "cell_type": "code",
   "execution_count": 4,
   "metadata": {},
   "outputs": [
    {
     "data": {
      "text/html": [
       "<div>\n",
       "<style scoped>\n",
       "    .dataframe tbody tr th:only-of-type {\n",
       "        vertical-align: middle;\n",
       "    }\n",
       "\n",
       "    .dataframe tbody tr th {\n",
       "        vertical-align: top;\n",
       "    }\n",
       "\n",
       "    .dataframe thead th {\n",
       "        text-align: right;\n",
       "    }\n",
       "</style>\n",
       "<table border=\"1\" class=\"dataframe\">\n",
       "  <thead>\n",
       "    <tr style=\"text-align: right;\">\n",
       "      <th></th>\n",
       "      <th>A</th>\n",
       "      <th>B</th>\n",
       "      <th>C</th>\n",
       "      <th>D</th>\n",
       "    </tr>\n",
       "  </thead>\n",
       "  <tbody>\n",
       "    <tr>\n",
       "      <th>2013-12-28</th>\n",
       "      <td>-0.844458</td>\n",
       "      <td>0.890374</td>\n",
       "      <td>-0.273189</td>\n",
       "      <td>0.058782</td>\n",
       "    </tr>\n",
       "    <tr>\n",
       "      <th>2013-12-29</th>\n",
       "      <td>-0.583172</td>\n",
       "      <td>-1.451880</td>\n",
       "      <td>0.641679</td>\n",
       "      <td>-0.180263</td>\n",
       "    </tr>\n",
       "    <tr>\n",
       "      <th>2013-12-30</th>\n",
       "      <td>0.426451</td>\n",
       "      <td>-0.982027</td>\n",
       "      <td>-2.136910</td>\n",
       "      <td>0.715385</td>\n",
       "    </tr>\n",
       "    <tr>\n",
       "      <th>2013-12-31</th>\n",
       "      <td>0.407438</td>\n",
       "      <td>1.223536</td>\n",
       "      <td>0.797547</td>\n",
       "      <td>-0.402751</td>\n",
       "    </tr>\n",
       "    <tr>\n",
       "      <th>2014-01-01</th>\n",
       "      <td>-0.293522</td>\n",
       "      <td>-0.511303</td>\n",
       "      <td>0.450877</td>\n",
       "      <td>1.051656</td>\n",
       "    </tr>\n",
       "  </tbody>\n",
       "</table>\n",
       "</div>"
      ],
      "text/plain": [
       "                   A         B         C         D\n",
       "2013-12-28 -0.844458  0.890374 -0.273189  0.058782\n",
       "2013-12-29 -0.583172 -1.451880  0.641679 -0.180263\n",
       "2013-12-30  0.426451 -0.982027 -2.136910  0.715385\n",
       "2013-12-31  0.407438  1.223536  0.797547 -0.402751\n",
       "2014-01-01 -0.293522 -0.511303  0.450877  1.051656"
      ]
     },
     "execution_count": 4,
     "metadata": {},
     "output_type": "execute_result"
    }
   ],
   "source": [
    "data.tail()"
   ]
  },
  {
   "cell_type": "code",
   "execution_count": 5,
   "metadata": {},
   "outputs": [
    {
     "data": {
      "text/html": [
       "<div>\n",
       "<style scoped>\n",
       "    .dataframe tbody tr th:only-of-type {\n",
       "        vertical-align: middle;\n",
       "    }\n",
       "\n",
       "    .dataframe tbody tr th {\n",
       "        vertical-align: top;\n",
       "    }\n",
       "\n",
       "    .dataframe thead th {\n",
       "        text-align: right;\n",
       "    }\n",
       "</style>\n",
       "<table border=\"1\" class=\"dataframe\">\n",
       "  <thead>\n",
       "    <tr style=\"text-align: right;\">\n",
       "      <th></th>\n",
       "      <th>A</th>\n",
       "      <th>B</th>\n",
       "      <th>C</th>\n",
       "      <th>D</th>\n",
       "    </tr>\n",
       "  </thead>\n",
       "  <tbody>\n",
       "    <tr>\n",
       "      <th>count</th>\n",
       "      <td>366.000000</td>\n",
       "      <td>366.000000</td>\n",
       "      <td>366.000000</td>\n",
       "      <td>366.000000</td>\n",
       "    </tr>\n",
       "    <tr>\n",
       "      <th>mean</th>\n",
       "      <td>-0.123457</td>\n",
       "      <td>0.012068</td>\n",
       "      <td>0.091466</td>\n",
       "      <td>0.032529</td>\n",
       "    </tr>\n",
       "    <tr>\n",
       "      <th>std</th>\n",
       "      <td>0.980432</td>\n",
       "      <td>0.989413</td>\n",
       "      <td>0.969984</td>\n",
       "      <td>0.938157</td>\n",
       "    </tr>\n",
       "    <tr>\n",
       "      <th>min</th>\n",
       "      <td>-2.868016</td>\n",
       "      <td>-3.227298</td>\n",
       "      <td>-2.136910</td>\n",
       "      <td>-2.217045</td>\n",
       "    </tr>\n",
       "    <tr>\n",
       "      <th>25%</th>\n",
       "      <td>-0.770711</td>\n",
       "      <td>-0.663825</td>\n",
       "      <td>-0.605758</td>\n",
       "      <td>-0.678935</td>\n",
       "    </tr>\n",
       "    <tr>\n",
       "      <th>50%</th>\n",
       "      <td>-0.122869</td>\n",
       "      <td>0.033838</td>\n",
       "      <td>0.108149</td>\n",
       "      <td>0.005754</td>\n",
       "    </tr>\n",
       "    <tr>\n",
       "      <th>75%</th>\n",
       "      <td>0.588861</td>\n",
       "      <td>0.780895</td>\n",
       "      <td>0.695672</td>\n",
       "      <td>0.643846</td>\n",
       "    </tr>\n",
       "    <tr>\n",
       "      <th>max</th>\n",
       "      <td>2.940801</td>\n",
       "      <td>2.899550</td>\n",
       "      <td>3.213972</td>\n",
       "      <td>2.742197</td>\n",
       "    </tr>\n",
       "  </tbody>\n",
       "</table>\n",
       "</div>"
      ],
      "text/plain": [
       "                A           B           C           D\n",
       "count  366.000000  366.000000  366.000000  366.000000\n",
       "mean    -0.123457    0.012068    0.091466    0.032529\n",
       "std      0.980432    0.989413    0.969984    0.938157\n",
       "min     -2.868016   -3.227298   -2.136910   -2.217045\n",
       "25%     -0.770711   -0.663825   -0.605758   -0.678935\n",
       "50%     -0.122869    0.033838    0.108149    0.005754\n",
       "75%      0.588861    0.780895    0.695672    0.643846\n",
       "max      2.940801    2.899550    3.213972    2.742197"
      ]
     },
     "execution_count": 5,
     "metadata": {},
     "output_type": "execute_result"
    }
   ],
   "source": [
    "data.describe()"
   ]
  },
  {
   "cell_type": "markdown",
   "metadata": {},
   "source": [
    "### Exercise 1.2:  The index is a time series, and pandas has a build-in command for re-sampling dataframes (documentation: https://pandas.pydata.org/pandas-docs/stable/generated/pandas.DataFrame.resample.html).  Use resample to get the median every 2 days and save this as a new dataframe."
   ]
  },
  {
   "cell_type": "code",
   "execution_count": 6,
   "metadata": {},
   "outputs": [
    {
     "data": {
      "text/html": [
       "<div>\n",
       "<style scoped>\n",
       "    .dataframe tbody tr th:only-of-type {\n",
       "        vertical-align: middle;\n",
       "    }\n",
       "\n",
       "    .dataframe tbody tr th {\n",
       "        vertical-align: top;\n",
       "    }\n",
       "\n",
       "    .dataframe thead th {\n",
       "        text-align: right;\n",
       "    }\n",
       "</style>\n",
       "<table border=\"1\" class=\"dataframe\">\n",
       "  <thead>\n",
       "    <tr style=\"text-align: right;\">\n",
       "      <th></th>\n",
       "      <th>A</th>\n",
       "      <th>B</th>\n",
       "      <th>C</th>\n",
       "      <th>D</th>\n",
       "    </tr>\n",
       "  </thead>\n",
       "  <tbody>\n",
       "    <tr>\n",
       "      <th>2013-01-01</th>\n",
       "      <td>1.961903</td>\n",
       "      <td>-0.552873</td>\n",
       "      <td>0.648598</td>\n",
       "      <td>0.252231</td>\n",
       "    </tr>\n",
       "    <tr>\n",
       "      <th>2013-01-03</th>\n",
       "      <td>0.374835</td>\n",
       "      <td>-0.004249</td>\n",
       "      <td>0.386218</td>\n",
       "      <td>-1.464741</td>\n",
       "    </tr>\n",
       "    <tr>\n",
       "      <th>2013-01-05</th>\n",
       "      <td>0.378044</td>\n",
       "      <td>0.105882</td>\n",
       "      <td>-0.731059</td>\n",
       "      <td>0.078845</td>\n",
       "    </tr>\n",
       "    <tr>\n",
       "      <th>2013-01-07</th>\n",
       "      <td>-0.803417</td>\n",
       "      <td>0.117468</td>\n",
       "      <td>1.263100</td>\n",
       "      <td>0.062397</td>\n",
       "    </tr>\n",
       "    <tr>\n",
       "      <th>2013-01-09</th>\n",
       "      <td>0.075628</td>\n",
       "      <td>-0.648808</td>\n",
       "      <td>-0.088972</td>\n",
       "      <td>0.605295</td>\n",
       "    </tr>\n",
       "  </tbody>\n",
       "</table>\n",
       "</div>"
      ],
      "text/plain": [
       "                   A         B         C         D\n",
       "2013-01-01  1.961903 -0.552873  0.648598  0.252231\n",
       "2013-01-03  0.374835 -0.004249  0.386218 -1.464741\n",
       "2013-01-05  0.378044  0.105882 -0.731059  0.078845\n",
       "2013-01-07 -0.803417  0.117468  1.263100  0.062397\n",
       "2013-01-09  0.075628 -0.648808 -0.088972  0.605295"
      ]
     },
     "execution_count": 6,
     "metadata": {},
     "output_type": "execute_result"
    }
   ],
   "source": [
    "#Solution: \n",
    "data2 = data.resample('2D').median()\n",
    "data2.head()"
   ]
  },
  {
   "cell_type": "markdown",
   "metadata": {},
   "source": [
    "### Exercise 1.3: Inspect the new dataframe to see the difference in size compared to the inital dataframe."
   ]
  },
  {
   "cell_type": "code",
   "execution_count": 7,
   "metadata": {},
   "outputs": [
    {
     "name": "stdout",
     "output_type": "stream",
     "text": [
      "(366, 4)\n",
      "(183, 4)\n"
     ]
    }
   ],
   "source": [
    "#Solution: \n",
    "print(data.shape)\n",
    "print(data2.shape)"
   ]
  },
  {
   "cell_type": "markdown",
   "metadata": {},
   "source": [
    "### Exercise 1.4:  Write your new dataframe to a csv file."
   ]
  },
  {
   "cell_type": "code",
   "execution_count": 8,
   "metadata": {},
   "outputs": [],
   "source": [
    "#Solution: \n",
    "data2.to_csv(\"data2.csv\")"
   ]
  },
  {
   "cell_type": "markdown",
   "metadata": {},
   "source": [
    "### Exercise 1.5: Merge the two dataframes. There are several ways to do this, see also https://pandas.pydata.org/pandas-docs/stable/merging.html."
   ]
  },
  {
   "cell_type": "code",
   "execution_count": 9,
   "metadata": {},
   "outputs": [
    {
     "data": {
      "text/plain": [
       "DatetimeIndex(['2013-01-01', '2013-01-02', '2013-01-03', '2013-01-04',\n",
       "               '2013-01-05', '2013-01-06', '2013-01-07', '2013-01-08',\n",
       "               '2013-01-09', '2013-01-10',\n",
       "               ...\n",
       "               '2013-12-13', '2013-12-15', '2013-12-17', '2013-12-19',\n",
       "               '2013-12-21', '2013-12-23', '2013-12-25', '2013-12-27',\n",
       "               '2013-12-29', '2013-12-31'],\n",
       "              dtype='datetime64[ns]', length=549, freq=None)"
      ]
     },
     "execution_count": 9,
     "metadata": {},
     "output_type": "execute_result"
    }
   ],
   "source": [
    "# Solution\n",
    "merged = pd.concat([data, data2])\n",
    "merged.index"
   ]
  },
  {
   "cell_type": "markdown",
   "metadata": {},
   "source": [
    "### Exercise 1.6: There are several ways to perform actions on the dataframe columns. The dataframe has several columns containing negative values. For this exercise, find these negative values on a column, and create a new column with their absolute value, using a list comprehension, and after this, using a lambda function. You can use the magic timeit to see if there is a difference between these operations."
   ]
  },
  {
   "cell_type": "code",
   "execution_count": 10,
   "metadata": {},
   "outputs": [
    {
     "name": "stdout",
     "output_type": "stream",
     "text": [
      "-0.0014458770000000953\n"
     ]
    },
    {
     "data": {
      "text/html": [
       "<div>\n",
       "<style scoped>\n",
       "    .dataframe tbody tr th:only-of-type {\n",
       "        vertical-align: middle;\n",
       "    }\n",
       "\n",
       "    .dataframe tbody tr th {\n",
       "        vertical-align: top;\n",
       "    }\n",
       "\n",
       "    .dataframe thead th {\n",
       "        text-align: right;\n",
       "    }\n",
       "</style>\n",
       "<table border=\"1\" class=\"dataframe\">\n",
       "  <thead>\n",
       "    <tr style=\"text-align: right;\">\n",
       "      <th></th>\n",
       "      <th>A</th>\n",
       "      <th>B</th>\n",
       "      <th>C</th>\n",
       "      <th>D</th>\n",
       "      <th>abs(B)</th>\n",
       "    </tr>\n",
       "  </thead>\n",
       "  <tbody>\n",
       "    <tr>\n",
       "      <th>2013-01-01</th>\n",
       "      <td>0.983005</td>\n",
       "      <td>-0.537476</td>\n",
       "      <td>1.580662</td>\n",
       "      <td>-1.453317</td>\n",
       "      <td>0.537476</td>\n",
       "    </tr>\n",
       "    <tr>\n",
       "      <th>2013-01-02</th>\n",
       "      <td>2.940801</td>\n",
       "      <td>-0.568270</td>\n",
       "      <td>-0.283466</td>\n",
       "      <td>1.957779</td>\n",
       "      <td>0.568270</td>\n",
       "    </tr>\n",
       "    <tr>\n",
       "      <th>2013-01-03</th>\n",
       "      <td>0.284637</td>\n",
       "      <td>-0.404083</td>\n",
       "      <td>0.464377</td>\n",
       "      <td>-1.684686</td>\n",
       "      <td>0.404083</td>\n",
       "    </tr>\n",
       "    <tr>\n",
       "      <th>2013-01-04</th>\n",
       "      <td>0.465034</td>\n",
       "      <td>0.395585</td>\n",
       "      <td>0.308059</td>\n",
       "      <td>-1.244796</td>\n",
       "      <td>0.395585</td>\n",
       "    </tr>\n",
       "    <tr>\n",
       "      <th>2013-01-05</th>\n",
       "      <td>-0.175122</td>\n",
       "      <td>0.820005</td>\n",
       "      <td>-0.967494</td>\n",
       "      <td>-0.105094</td>\n",
       "      <td>0.820005</td>\n",
       "    </tr>\n",
       "  </tbody>\n",
       "</table>\n",
       "</div>"
      ],
      "text/plain": [
       "                   A         B         C         D    abs(B)\n",
       "2013-01-01  0.983005 -0.537476  1.580662 -1.453317  0.537476\n",
       "2013-01-02  2.940801 -0.568270 -0.283466  1.957779  0.568270\n",
       "2013-01-03  0.284637 -0.404083  0.464377 -1.684686  0.404083\n",
       "2013-01-04  0.465034  0.395585  0.308059 -1.244796  0.395585\n",
       "2013-01-05 -0.175122  0.820005 -0.967494 -0.105094  0.820005"
      ]
     },
     "execution_count": 10,
     "metadata": {},
     "output_type": "execute_result"
    }
   ],
   "source": [
    "# Solution\n",
    "# method 1: list comprehension\n",
    "start = timeit.timeit()\n",
    "\n",
    "a = [np.abs(x) for x in data.B]\n",
    "data[\"abs(B)\"] = pd.Series(a,index=data.index)\n",
    "end = timeit.timeit()\n",
    "print(end - start)\n",
    "data.head()"
   ]
  },
  {
   "cell_type": "code",
   "execution_count": 11,
   "metadata": {},
   "outputs": [
    {
     "name": "stdout",
     "output_type": "stream",
     "text": [
      "-0.00389792400000033\n"
     ]
    },
    {
     "data": {
      "text/html": [
       "<div>\n",
       "<style scoped>\n",
       "    .dataframe tbody tr th:only-of-type {\n",
       "        vertical-align: middle;\n",
       "    }\n",
       "\n",
       "    .dataframe tbody tr th {\n",
       "        vertical-align: top;\n",
       "    }\n",
       "\n",
       "    .dataframe thead th {\n",
       "        text-align: right;\n",
       "    }\n",
       "</style>\n",
       "<table border=\"1\" class=\"dataframe\">\n",
       "  <thead>\n",
       "    <tr style=\"text-align: right;\">\n",
       "      <th></th>\n",
       "      <th>A</th>\n",
       "      <th>B</th>\n",
       "      <th>C</th>\n",
       "      <th>D</th>\n",
       "      <th>abs(B)</th>\n",
       "      <th>abs(C)</th>\n",
       "    </tr>\n",
       "  </thead>\n",
       "  <tbody>\n",
       "    <tr>\n",
       "      <th>2013-01-01</th>\n",
       "      <td>0.983005</td>\n",
       "      <td>-0.537476</td>\n",
       "      <td>1.580662</td>\n",
       "      <td>-1.453317</td>\n",
       "      <td>0.537476</td>\n",
       "      <td>1.580662</td>\n",
       "    </tr>\n",
       "    <tr>\n",
       "      <th>2013-01-02</th>\n",
       "      <td>2.940801</td>\n",
       "      <td>-0.568270</td>\n",
       "      <td>-0.283466</td>\n",
       "      <td>1.957779</td>\n",
       "      <td>0.568270</td>\n",
       "      <td>0.283466</td>\n",
       "    </tr>\n",
       "    <tr>\n",
       "      <th>2013-01-03</th>\n",
       "      <td>0.284637</td>\n",
       "      <td>-0.404083</td>\n",
       "      <td>0.464377</td>\n",
       "      <td>-1.684686</td>\n",
       "      <td>0.404083</td>\n",
       "      <td>0.464377</td>\n",
       "    </tr>\n",
       "    <tr>\n",
       "      <th>2013-01-04</th>\n",
       "      <td>0.465034</td>\n",
       "      <td>0.395585</td>\n",
       "      <td>0.308059</td>\n",
       "      <td>-1.244796</td>\n",
       "      <td>0.395585</td>\n",
       "      <td>0.308059</td>\n",
       "    </tr>\n",
       "    <tr>\n",
       "      <th>2013-01-05</th>\n",
       "      <td>-0.175122</td>\n",
       "      <td>0.820005</td>\n",
       "      <td>-0.967494</td>\n",
       "      <td>-0.105094</td>\n",
       "      <td>0.820005</td>\n",
       "      <td>0.967494</td>\n",
       "    </tr>\n",
       "  </tbody>\n",
       "</table>\n",
       "</div>"
      ],
      "text/plain": [
       "                   A         B         C         D    abs(B)    abs(C)\n",
       "2013-01-01  0.983005 -0.537476  1.580662 -1.453317  0.537476  1.580662\n",
       "2013-01-02  2.940801 -0.568270 -0.283466  1.957779  0.568270  0.283466\n",
       "2013-01-03  0.284637 -0.404083  0.464377 -1.684686  0.404083  0.464377\n",
       "2013-01-04  0.465034  0.395585  0.308059 -1.244796  0.395585  0.308059\n",
       "2013-01-05 -0.175122  0.820005 -0.967494 -0.105094  0.820005  0.967494"
      ]
     },
     "execution_count": 11,
     "metadata": {},
     "output_type": "execute_result"
    }
   ],
   "source": [
    "# Solution\n",
    "# method 2: lambda function\n",
    "start = timeit.timeit()\n",
    "\n",
    "data[\"abs(C)\"] = data.C.apply(lambda x: np.abs(x))\n",
    "end = timeit.timeit()\n",
    "print(end - start)\n",
    "data.head()"
   ]
  },
  {
   "cell_type": "markdown",
   "metadata": {},
   "source": [
    "## Supervised learning using scikit-learn - Classification of MNIST data"
   ]
  },
  {
   "cell_type": "markdown",
   "metadata": {},
   "source": [
    "### Exercise 2.1: Download the digit ('MNIST original') dataset from  mldata.org, which is a public repository for machine learning data. Divide the data into training and testing. Please use 1/7 for training and the rest for testing. \n",
    "\n",
    "Hint: The sklearn.datasets package is able to directly download data sets from the repository using the function sklearn.datasets.fetch_mldata. Generate the training and testing set by importing train_test_split from sklearn.model_selection\n",
    "\n",
    " "
   ]
  },
  {
   "cell_type": "code",
   "execution_count": 12,
   "metadata": {},
   "outputs": [],
   "source": [
    "# Solution\n",
    "\n",
    "import sklearn \n",
    "from sklearn.datasets import fetch_openml\n",
    "\n",
    "# Download the MNIST original dataset\n",
    "# Load data from https://www.openml.org/d/554\n",
    "x, y = fetch_openml('mnist_784', version=1, return_X_y=True)\n",
    "\n",
    "from sklearn.model_selection import train_test_split\n",
    "\n",
    "# Split the images into training and testing\n",
    "x_tr, x_va, y_tr, y_va = train_test_split(x, y, test_size = 1/7.0)\n"
   ]
  },
  {
   "cell_type": "markdown",
   "metadata": {
    "collapsed": true
   },
   "source": [
    "### Exercise 2.2: The optimal performance of many machine learning algorithms is affected by scale. Typically, you need to scale the features in your data before applying any algorithm. Normalize the data and plot some random images from the dataset.  \n",
    "\n",
    "Hint: Use StandardScaler from sklearn.preprocessing to help you standardize the dataset’s features onto unit scale (mean = 0 and variance = 1)\n",
    "\n"
   ]
  },
  {
   "cell_type": "code",
   "execution_count": 13,
   "metadata": {},
   "outputs": [],
   "source": [
    "# Solution\n",
    "\n",
    "from sklearn.preprocessing import StandardScaler\n",
    "scaler = StandardScaler()\n",
    "\n",
    "# Fit on training set only\n",
    "scaler.fit(x)\n",
    "\n",
    "# Apply transform to both the training set and the test set\n",
    "x_tr = scaler.transform(x_tr)\n",
    "x_va = scaler.transform(x_va)"
   ]
  },
  {
   "cell_type": "code",
   "execution_count": 14,
   "metadata": {},
   "outputs": [
    {
     "data": {
      "text/plain": [
       "<matplotlib.image.AxesImage at 0x1a300a6ac8>"
      ]
     },
     "execution_count": 14,
     "metadata": {},
     "output_type": "execute_result"
    },
    {
     "data": {
      "image/png": "[encoded data removed]",
      "text/plain": [
       "<Figure size 432x288 with 1 Axes>"
      ]
     },
     "metadata": {
      "needs_background": "light"
     },
     "output_type": "display_data"
    }
   ],
   "source": [
    "# Solution (Visualization)\n",
    "%matplotlib inline\n",
    "\n",
    "import matplotlib.pyplot as plt\n",
    "plt.imshow(x_tr[0].reshape((28,28)))"
   ]
  },
  {
   "cell_type": "markdown",
   "metadata": {},
   "source": [
    "### Exercise 2.3: Logistic regression is one of the simplest linear classification algorithms. Fit a logistic regression model to the training images. Compute the accuracy of the classifier on the test images, and the time needed to train the model.¶\n",
    "\n",
    "Hint: Use LogisticRegression from sklearn.linear_model. To increase speed, change the default solver to 'lbfgs'\n"
   ]
  },
  {
   "cell_type": "code",
   "execution_count": 20,
   "metadata": {},
   "outputs": [
    {
     "name": "stderr",
     "output_type": "stream",
     "text": [
      "/anaconda3/lib/python3.7/site-packages/sklearn/linear_model/logistic.py:433: FutureWarning: Default solver will be changed to 'lbfgs' in 0.22. Specify a solver to silence this warning.\n",
      "  FutureWarning)\n",
      "/anaconda3/lib/python3.7/site-packages/sklearn/linear_model/logistic.py:460: FutureWarning: Default multi_class will be changed to 'auto' in 0.22. Specify the multi_class option to silence this warning.\n",
      "  \"this warning.\", FutureWarning)\n"
     ]
    },
    {
     "name": "stdout",
     "output_type": "stream",
     "text": [
      "1.0\n",
      "0.813\n",
      "The total time is 4.433858871459961 seconds \n"
     ]
    }
   ],
   "source": [
    "# Solution\n",
    "\n",
    "from time import time\n",
    "from sklearn.linear_model import LogisticRegression\n",
    "\n",
    "tic = time()\n",
    "# Fit a linear regression model\n",
    "lr = LogisticRegression()\n",
    "lr.fit(x_tr[:1000], y_tr[:1000])\n",
    "\n",
    "# Compute the classification score\n",
    "print(lr.score(x_tr[:1000], y_tr[:1000]))\n",
    "print(lr.score(x_va[:1000], y_va[:1000]))\n",
    "toc = time()\n",
    "print('The total time is %s seconds ' % (toc-tic))\n"
   ]
  },
  {
   "cell_type": "code",
   "execution_count": null,
   "metadata": {},
   "outputs": [],
   "source": []
  },
  {
   "cell_type": "markdown",
   "metadata": {},
   "source": [
    "### Exercise 2.4: Apply Principle Component Analysis (PCA) to the training signals by keeping only (a) 25%, (b) 75%, and (c) 95% of the energy. For each of the three cases, output the number of the required principle components.Then, plot the Cumulative Explained Variance over PCA. Finally, choose a random image from the dataset, and show its approximation with the PCA components. \n",
    "\n",
    "Hint: For computing the Cumulative Explained Variance over PCA use:\n",
    "```\n",
    "pca.explained_variance_ratio_.cumsum()\n",
    "\n",
    "```"
   ]
  },
  {
   "cell_type": "code",
   "execution_count": null,
   "metadata": {
    "collapsed": true
   },
   "outputs": [],
   "source": [
    "# Solution \n",
    "from sklearn.decomposition import PCA\n",
    "\n",
    "# Fit a PCA model\n",
    "\n",
    "# Compute the number of PCA components\n"
   ]
  },
  {
   "cell_type": "code",
   "execution_count": null,
   "metadata": {
    "collapsed": true
   },
   "outputs": [],
   "source": [
    "# Plot the Cumulative Explained Variance over PCA\n"
   ]
  },
  {
   "cell_type": "code",
   "execution_count": null,
   "metadata": {
    "collapsed": true
   },
   "outputs": [],
   "source": [
    "# Choose a random image from the dataset, and show its approximation with the PCA components\n",
    "\n",
    "plt.figure(figsize=(8,4));\n",
    "\n",
    "# Original Image\n",
    "plt.subplot(1, 2, 1);\n",
    "\n",
    "# Approximation\n",
    "plt.subplot(1, 2, 2);\n"
   ]
  },
  {
   "cell_type": "markdown",
   "metadata": {},
   "source": [
    "### Exercise 2.5: Fit a logistic regression model to the approximation of the training images with 95% of explained variance. Compute the accuracy of the classifier and the time needed to train the model. Compare it to the one obtained in 2.3. What do you observe? \n"
   ]
  },
  {
   "cell_type": "code",
   "execution_count": null,
   "metadata": {
    "collapsed": true
   },
   "outputs": [],
   "source": [
    "# Solution\n",
    "\n",
    "tic = time()\n",
    "\n",
    "# Fit a logistic regression model on the PCA coefficients\n",
    "\n",
    "toc = time()\n",
    "\n",
    "print('The total time is %s seconds' % (toc-tic))\n"
   ]
  },
  {
   "cell_type": "markdown",
   "metadata": {},
   "source": [
    "## Unsupervised learning with sklearn.cluster.KMeans()"
   ]
  },
  {
   "cell_type": "markdown",
   "metadata": {},
   "source": [
    "###  Exercise 3.1: Generate a set of 6 isotropic Gaussian blobs, with 1000 samples each. Each sample should have 60 features. \n",
    "\n",
    "Hint: Use the sklearn.datasets.make_blobs to generate the data"
   ]
  },
  {
   "cell_type": "code",
   "execution_count": null,
   "metadata": {
    "collapsed": true
   },
   "outputs": [],
   "source": [
    "# Solution\n",
    "\n",
    "from sklearn.cluster import KMeans\n",
    "from sklearn.datasets.samples_generator import make_blobs\n",
    "\n",
    "# Generate the data\n"
   ]
  },
  {
   "cell_type": "markdown",
   "metadata": {},
   "source": [
    "###  Exercise 3.2: Apply PCA to the generated data. Store the first two principle components and their cluster index to a new dataframe.  Visualize the 6 blobs based only on these two components. "
   ]
  },
  {
   "cell_type": "code",
   "execution_count": null,
   "metadata": {
    "collapsed": true
   },
   "outputs": [],
   "source": [
    "# Solution\n",
    "\n",
    "# Fit PCA to the data\n",
    "\n",
    "# Generate a new dataframe and store the first two Principle Components and the true cluster index\n",
    "\n",
    "# Vizualize the data by plotting their representation on the two Principle Components (x and y axis)\n"
   ]
  },
  {
   "cell_type": "markdown",
   "metadata": {},
   "source": [
    "### Exercise 3.3: Set the number of clusters to 6 and apply Kmeans clustering to the data. Compute the accuracy score between the true labels and the ones estimated by the Kmeans algorithm. "
   ]
  },
  {
   "cell_type": "code",
   "execution_count": null,
   "metadata": {
    "collapsed": true
   },
   "outputs": [],
   "source": [
    "# Solution\n",
    "\n",
    "from sklearn.cluster import KMeans\n",
    "\n",
    "# Fit a Kmean model to the data\n",
    "\n",
    "from scipy.stats import mode\n",
    "\n",
    "# Uncomment this part to compute the accuracy score\n",
    "#  y_true: the true cluster index\n",
    "#  y_kmeans: the cluster index assigned by Kmeans\n",
    "\n",
    "\"\"\"\n",
    "labels = np.zeros_like(y_true)\n",
    "for i in range(6):\n",
    "    mask = (y_kmeans == i)\n",
    "    labels[mask] = mode(y_true[mask])[0]\n",
    "    \n",
    "from sklearn.metrics import accuracy_score\n",
    "accuracy_score(y_true, labels)\n",
    "\"\"\"\n"
   ]
  },
  {
   "cell_type": "markdown",
   "metadata": {},
   "source": [
    "### Exercise 3.4: Do the same by clustering the data using only the first 2 principle components. What do you observe? "
   ]
  },
  {
   "cell_type": "code",
   "execution_count": null,
   "metadata": {
    "collapsed": true
   },
   "outputs": [],
   "source": [
    "# Solution\n",
    "\n",
    "# Fit a Kmeans model to the first 2 PCA coefficients of the data\n",
    "\n",
    "# Uncomment this part to compute the accuracy score\n",
    "# y_true: the true cluster index\n",
    "# y_kmeans: the cluster index assigned by Kmeans\n",
    "\n",
    "\"\"\"\n",
    "labels = np.zeros_like(y_true)\n",
    "for i in range(6):\n",
    "    mask = (y_kmeans == i)\n",
    "    labels[mask] = mode(y_true[mask])[0]\n",
    "    \n",
    "accuracy_score(y_true, labels)\n",
    "\"\"\"\n"
   ]
  }
 ],
 "metadata": {
  "anaconda-cloud": {},
  "kernelspec": {
   "display_name": "Python 3",
   "language": "python",
   "name": "python3"
  },
  "language_info": {
   "codemirror_mode": {
    "name": "ipython",
    "version": 3
   },
   "file_extension": ".py",
   "mimetype": "text/x-python",
   "name": "python",
   "nbconvert_exporter": "python",
   "pygments_lexer": "ipython3",
   "version": "3.7.1"
  }
 },
 "nbformat": 4,
 "nbformat_minor": 2
}
